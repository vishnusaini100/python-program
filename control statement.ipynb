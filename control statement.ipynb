{
 "cells": [
  {
   "cell_type": "code",
   "execution_count": 3,
   "metadata": {},
   "outputs": [
    {
     "name": "stdout",
     "output_type": "stream",
     "text": [
      "enter first number6\n",
      "enter second number10\n",
      "number second is maximum 10\n"
     ]
    }
   ],
   "source": [
    "# program for find maximum number between two number\n",
    "a=int(input(\"enter first number\"))\n",
    "b=int(input(\"enter second number\"))\n",
    "if a > b:\n",
    "    print(\"number first is maximum\",a)\n",
    "else:    \n",
    "                print(\"number second is maximum\",b)"
   ]
  },
  {
   "cell_type": "code",
   "execution_count": 6,
   "metadata": {},
   "outputs": [
    {
     "name": "stdout",
     "output_type": "stream",
     "text": [
      "enter first number7\n",
      "enter second number3\n",
      "enter third number8\n",
      "third number is maximum 8\n"
     ]
    }
   ],
   "source": [
    "#program for find maximum number between three number\n",
    "a=int(input(\"enter first number\"))\n",
    "b=int(input(\"enter second number\"))\n",
    "c=int(input(\"enter third number\"))\n",
    "if a > b and a > c:\n",
    "    print(\"number first is maximum\",a)\n",
    "elif b > c:  \n",
    "              print(\"second number is maximum\",b)\n",
    "else:\n",
    "        print(\"third number is maximum\",c)"
   ]
  },
  {
   "cell_type": "code",
   "execution_count": 24,
   "metadata": {},
   "outputs": [
    {
     "name": "stdout",
     "output_type": "stream",
     "text": [
      "enter a number+45\n",
      "number is positive\n"
     ]
    }
   ],
   "source": [
    "#program for whether number is positive ,negative or zero\n",
    "a=int(input(\"enter a number\"))\n",
    "if a > 0:\n",
    "        print(\"number is positive\")\n",
    "elif a == 0:\n",
    "            print(\"number is zero\")\n",
    "else: \n",
    "        print(\"num is negative\")"
   ]
  },
  {
   "cell_type": "code",
   "execution_count": 32,
   "metadata": {},
   "outputs": [
    {
     "name": "stdout",
     "output_type": "stream",
     "text": [
      "enter a number44\n",
      "enter number is divisible by 11\n"
     ]
    }
   ],
   "source": [
    "#  wap for num is divisible by 5 and 11 or not\n",
    "num=int(input(\"enter a number\"))\n",
    "if num % 5 == 0:\n",
    "    print(\"number is divisible by 5\")\n",
    "elif num % 11 == 0:  \n",
    "        print(\"enter number is divisible by 11\")\n",
    "else:\n",
    "        print(\"num is not divisible by 5 and 11\")"
   ]
  },
  {
   "cell_type": "code",
   "execution_count": 1,
   "metadata": {},
   "outputs": [
    {
     "name": "stdout",
     "output_type": "stream",
     "text": [
      "enter a number8\n",
      "num is even\n"
     ]
    }
   ],
   "source": [
    "# wap for num is even or odd\n",
    "num=int(input(\"enter a number\"))\n",
    "if num % 2:\n",
    "            print(\"num is odd\")\n",
    "else:\n",
    "        print(\"num is even\")"
   ]
  },
  {
   "cell_type": "code",
   "execution_count": 15,
   "metadata": {},
   "outputs": [
    {
     "name": "stdout",
     "output_type": "stream",
     "text": [
      "enter a character:2\n",
      "given ch is not alphabet\n"
     ]
    }
   ],
   "source": [
    "#wap for whether character is alphabet or not\n",
    "ch= (input(\"enter a character:\"))\n",
    "if ch >=chr(97) and ch <=chr(122) or ch >=chr(65) and ch <=chr(90) :\n",
    "    print(\"given character is alphabet\")\n",
    "else:\n",
    "    print(\"given ch is not alphabet\")"
   ]
  },
  {
   "cell_type": "code",
   "execution_count": null,
   "metadata": {},
   "outputs": [],
   "source": []
  },
  {
   "cell_type": "code",
   "execution_count": 6,
   "metadata": {},
   "outputs": [
    {
     "name": "stdout",
     "output_type": "stream",
     "text": [
      "enter marks of physics40\n",
      "enter marks of chemistry50\n",
      "enter marks of biology60\n",
      "enter marks of maths70\n",
      "enter marks of computer80\n",
      "percentage 60.0\n",
      "grade D\n"
     ]
    }
   ],
   "source": [
    "# wap for enter five subject marks then to calculate percentage and grade\n",
    "p=float(input(\"enter marks of physics\"))\n",
    "c=float(input(\"enter marks of chemistry\"))\n",
    "b=float(input(\"enter marks of biology\"))\n",
    "m=float(input(\"enter marks of maths\"))\n",
    "d=float(input(\"enter marks of computer\"))\n",
    "total=p+c+b+m+d\n",
    "per=(total / 500)*100\n",
    "print(\"percentage\",per)\n",
    "if per >= 90:\n",
    "        print(\"grade A\")\n",
    "elif per >= 70:\n",
    "        print(\"grade C\")\n",
    "elif per >= 60:\n",
    "           print(\"grade D\")\n",
    "elif per >= 40:\n",
    "    print(\"grade E\")\n",
    "else:\n",
    "        print(\"grade F\")\n",
    "    \n"
   ]
  },
  {
   "cell_type": "code",
   "execution_count": null,
   "metadata": {},
   "outputs": [],
   "source": [
    "# choice= rock,paper,scissior\n",
    "# player1  player2   win\n",
    "# rock      rock      tie\n",
    "# paper       paper    tie\n",
    "# scissior    siccior   tie\n",
    "\n",
    "# rock      scissior      player1\n",
    "# paper     rock     player1\n",
    "# scissior    pape    player1\n",
    "#else player2\n"
   ]
  },
  {
   "cell_type": "code",
   "execution_count": null,
   "metadata": {},
   "outputs": [],
   "source": []
  },
  {
   "cell_type": "code",
   "execution_count": 1,
   "metadata": {},
   "outputs": [
    {
     "name": "stdout",
     "output_type": "stream",
     "text": [
      "enter player one chice········\n",
      "enter player 2 chioce········\n",
      "player 2 won\n",
      "player one choice rock\n",
      "player 2 choice paper\n"
     ]
    }
   ],
   "source": [
    "l=[('rock','scissior'),('paper','rock'),('scissior','paper')]\n",
    "from get#else player2\n",
    "pass import getpass\n",
    "ch1=getpass(\"enter player one chice\").lower()\n",
    "ch2=getpass(\"enter player 2 chioce\").lower()\n",
    "ch=(ch1,ch2)\n",
    "if ch1 == ch2:\n",
    "    print(\"match tie\")\n",
    "elif ch in l:\n",
    "        print(\"player one won the match\")\n",
    "else:\n",
    "        print(\"player 2 won\")\n",
    "print(\"player one choice\",ch1)\n",
    "print(\"player 2 choice\",ch2)\n"
   ]
  },
  {
   "cell_type": "code",
   "execution_count": 2,
   "metadata": {},
   "outputs": [
    {
     "name": "stdout",
     "output_type": "stream",
     "text": [
      "enter firs number6\n",
      "enter second number9\n",
      "1 add. 2 subtract. 3 multiply\n",
      "enter your choice2\n",
      "subtract -3\n"
     ]
    }
   ],
   "source": [
    "# simple calculater without help function\n",
    "a=int(input(\"enter firs number\"))\n",
    "b=int(input(\"enter second number\"))\n",
    "print(\"1 add. 2 subtract. 3 multiply\")\n",
    "choice=int(input(\"enter your choice\"))\n",
    "if choice == 1:\n",
    "    print(\"addition\",a+b)\n",
    "elif choice == 2:\n",
    "        print(\"subtract\",a-b)\n",
    "else:\n",
    "        print(\"multiply\",a*b)\n",
    "        "
   ]
  },
  {
   "cell_type": "raw",
   "metadata": {},
   "source": []
  },
  {
   "cell_type": "code",
   "execution_count": 1,
   "metadata": {},
   "outputs": [
    {
     "name": "stdout",
     "output_type": "stream",
     "text": [
      "hello world\n",
      "hello\n"
     ]
    }
   ],
   "source": [
    "if True :\n",
    "    print(\"hello world\")\n",
    "    print(\"hello\")\n",
    "else:\n",
    "    print(\"hii\")"
   ]
  },
  {
   "cell_type": "code",
   "execution_count": null,
   "metadata": {},
   "outputs": [],
   "source": []
  }
 ],
 "metadata": {
  "kernelspec": {
   "display_name": "Python 3",
   "language": "python",
   "name": "python3"
  },
  "language_info": {
   "codemirror_mode": {
    "name": "ipython",
    "version": 3
   },
   "file_extension": ".py",
   "mimetype": "text/x-python",
   "name": "python",
   "nbconvert_exporter": "python",
   "pygments_lexer": "ipython3",
   "version": "3.7.3"
  }
 },
 "nbformat": 4,
 "nbformat_minor": 2
}
