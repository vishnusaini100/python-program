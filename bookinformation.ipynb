{
 "cells": [
  {
   "cell_type": "code",
   "execution_count": 2,
   "metadata": {},
   "outputs": [
    {
     "name": "stdout",
     "output_type": "stream",
     "text": [
      "{1: {'b_name': 'os', 'b_author': 'ar', 'b_price': 200}, 2: {'b_name': 'toc', 'b_author': 'shrikanth', 'b_price': 150}, 3: {'b_name': 'dbms', 'b_author': 'neetu', 'b_price': 250}, 4: {'b_name': 'embedded', 'b_author': 'vk', 'b_price': 300}, 5: {'b_name': 'cn', 'b_author': 'pearson', 'b_price': 500}}\n"
     ]
    }
   ],
   "source": [
    "dict={\n",
    "    1:{'b_name':'os','b_author':'ar','b_price':200},\n",
    "    2:{'b_name':'toc','b_author':'shrikanth','b_price':150},\n",
    "    3:{'b_name':'dbms','b_author':'neetu','b_price':250},\n",
    "    4:{'b_name':'embedded','b_author':'vk','b_price':300},\n",
    "    5:{'b_name':'cn','b_author':'pearson','b_price':500}\n",
    "}\n",
    "print(dict)"
   ]
  },
  {
   "cell_type": "code",
   "execution_count": 3,
   "metadata": {},
   "outputs": [
    {
     "name": "stdout",
     "output_type": "stream",
     "text": [
      "{'b_name': 'toc', 'b_author': 'shrikanth', 'b_price': 150}\n"
     ]
    }
   ],
   "source": [
    "print(dict[2])"
   ]
  },
  {
   "cell_type": "code",
   "execution_count": 5,
   "metadata": {},
   "outputs": [
    {
     "name": "stdout",
     "output_type": "stream",
     "text": [
      "150\n"
     ]
    }
   ],
   "source": [
    "print(dict[2]['b_price'])"
   ]
  },
  {
   "cell_type": "code",
   "execution_count": 7,
   "metadata": {},
   "outputs": [
    {
     "name": "stdout",
     "output_type": "stream",
     "text": [
      "ar\n"
     ]
    }
   ],
   "source": [
    "print(dict[1]['b_author'])"
   ]
  },
  {
   "cell_type": "code",
   "execution_count": 15,
   "metadata": {},
   "outputs": [
    {
     "name": "stdout",
     "output_type": "stream",
     "text": [
      "enter book author nameabc\n",
      "this is not exit\n"
     ]
    }
   ],
   "source": [
    "a=input(\"enter book author name\")\n",
    "print(dict.get(\"b_author\",\"this is not exit\"))"
   ]
  },
  {
   "cell_type": "code",
   "execution_count": null,
   "metadata": {},
   "outputs": [],
   "source": []
  },
  {
   "cell_type": "code",
   "execution_count": null,
   "metadata": {},
   "outputs": [],
   "source": []
  }
 ],
 "metadata": {
  "kernelspec": {
   "display_name": "Python 3",
   "language": "python",
   "name": "python3"
  },
  "language_info": {
   "codemirror_mode": {
    "name": "ipython",
    "version": 3
   },
   "file_extension": ".py",
   "mimetype": "text/x-python",
   "name": "python",
   "nbconvert_exporter": "python",
   "pygments_lexer": "ipython3",
   "version": "3.7.3"
  }
 },
 "nbformat": 4,
 "nbformat_minor": 2
}
